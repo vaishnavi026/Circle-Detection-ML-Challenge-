{
 "cells": [
  {
   "cell_type": "code",
   "execution_count": 15,
   "metadata": {},
   "outputs": [
    {
     "data": {
      "text/plain": [
       "'cuda'"
      ]
     },
     "execution_count": 15,
     "metadata": {},
     "output_type": "execute_result"
    }
   ],
   "source": [
    "from skimage.draw import circle_perimeter_aa\n",
    "import matplotlib.pyplot as plt\n",
    "import torch\n",
    "from tqdm.auto import tqdm\n",
    "import torch.nn as nn\n",
    "import torch.nn.functional as F\n",
    "\n",
    "import torchvision\n",
    "from torchvision import transforms\n",
    "from torchvision.transforms import ToTensor \n",
    "device = \"cuda\" if torch.cuda.is_available() else \"cpu\"\n",
    "device"
   ]
  },
  {
   "cell_type": "code",
   "execution_count": 16,
   "metadata": {},
   "outputs": [],
   "source": [
    "import utils"
   ]
  },
  {
   "cell_type": "code",
   "execution_count": 17,
   "metadata": {},
   "outputs": [
    {
     "name": "stdout",
     "output_type": "stream",
     "text": [
      "Using parameters: noise_level=0.5, img_size=100, min_radius=10, max_radius=50, dataset_path='ds'\n"
     ]
    },
    {
     "ename": "NameError",
     "evalue": "name 'circle_perimeter_aa' is not defined",
     "output_type": "error",
     "traceback": [
      "\u001b[0;31m---------------------------------------------------------------------------\u001b[0m",
      "\u001b[0;31mNameError\u001b[0m                                 Traceback (most recent call last)",
      "\u001b[1;32m/u/v/a/vaishnavi_b/Desktop/Circle-Detection-ML-Challenge-/src/notebook_using_fn.ipynb Cell 3\u001b[0m line \u001b[0;36m1\n\u001b[0;32m----> <a href='vscode-notebook-cell://ssh-remote%2Binstgpu-05.cs.wisc.edu/u/v/a/vaishnavi_b/Desktop/Circle-Detection-ML-Challenge-/src/notebook_using_fn.ipynb#W2sdnNjb2RlLXJlbW90ZQ%3D%3D?line=0'>1</a>\u001b[0m \u001b[39mfrom\u001b[39;00m \u001b[39mprepare_data\u001b[39;00m \u001b[39mimport\u001b[39;00m get_data\n\u001b[1;32m      <a href='vscode-notebook-cell://ssh-remote%2Binstgpu-05.cs.wisc.edu/u/v/a/vaishnavi_b/Desktop/Circle-Detection-ML-Challenge-/src/notebook_using_fn.ipynb#W2sdnNjb2RlLXJlbW90ZQ%3D%3D?line=3'>4</a>\u001b[0m data \u001b[39m=\u001b[39m get_data()\n",
      "File \u001b[0;32m/afs/cs.wisc.edu/u/v/a/vaishnavi_b/Desktop/Circle-Detection-ML-Challenge-/src/prepare_data.py:31\u001b[0m\n\u001b[1;32m     28\u001b[0m     \u001b[39mreturn\u001b[39;00m dataset\n\u001b[1;32m     30\u001b[0m \u001b[39m# Example usage:\u001b[39;00m\n\u001b[0;32m---> 31\u001b[0m data \u001b[39m=\u001b[39m get_data()\n",
      "File \u001b[0;32m/afs/cs.wisc.edu/u/v/a/vaishnavi_b/Desktop/Circle-Detection-ML-Challenge-/src/prepare_data.py:21\u001b[0m, in \u001b[0;36mget_data\u001b[0;34m(file_path, noise_level, img_size, min_radius, max_radius, num_examples)\u001b[0m\n\u001b[1;32m     18\u001b[0m data_generator \u001b[39m=\u001b[39m generate_examples(noise_level\u001b[39m=\u001b[39mnoise_level, img_size\u001b[39m=\u001b[39mimg_size, min_radius\u001b[39m=\u001b[39mmin_radius, max_radius\u001b[39m=\u001b[39mmax_radius)\n\u001b[1;32m     20\u001b[0m \u001b[39m# Generate and save the data\u001b[39;00m\n\u001b[0;32m---> 21\u001b[0m dataset \u001b[39m=\u001b[39m [\u001b[39mnext\u001b[39m(data_generator) \u001b[39mfor\u001b[39;00m _ \u001b[39min\u001b[39;00m \u001b[39mrange\u001b[39m(num_examples)]\n\u001b[1;32m     23\u001b[0m \u001b[39m# Save the dataset using pickle\u001b[39;00m\n\u001b[1;32m     24\u001b[0m \u001b[39mwith\u001b[39;00m \u001b[39mopen\u001b[39m(file_path, \u001b[39m'\u001b[39m\u001b[39mwb\u001b[39m\u001b[39m'\u001b[39m) \u001b[39mas\u001b[39;00m file:\n",
      "File \u001b[0;32m/afs/cs.wisc.edu/u/v/a/vaishnavi_b/Desktop/Circle-Detection-ML-Challenge-/src/prepare_data.py:21\u001b[0m, in \u001b[0;36m<listcomp>\u001b[0;34m(.0)\u001b[0m\n\u001b[1;32m     18\u001b[0m data_generator \u001b[39m=\u001b[39m generate_examples(noise_level\u001b[39m=\u001b[39mnoise_level, img_size\u001b[39m=\u001b[39mimg_size, min_radius\u001b[39m=\u001b[39mmin_radius, max_radius\u001b[39m=\u001b[39mmax_radius)\n\u001b[1;32m     20\u001b[0m \u001b[39m# Generate and save the data\u001b[39;00m\n\u001b[0;32m---> 21\u001b[0m dataset \u001b[39m=\u001b[39m [\u001b[39mnext\u001b[39;49m(data_generator) \u001b[39mfor\u001b[39;00m _ \u001b[39min\u001b[39;00m \u001b[39mrange\u001b[39m(num_examples)]\n\u001b[1;32m     23\u001b[0m \u001b[39m# Save the dataset using pickle\u001b[39;00m\n\u001b[1;32m     24\u001b[0m \u001b[39mwith\u001b[39;00m \u001b[39mopen\u001b[39m(file_path, \u001b[39m'\u001b[39m\u001b[39mwb\u001b[39m\u001b[39m'\u001b[39m) \u001b[39mas\u001b[39;00m file:\n",
      "File \u001b[0;32m/afs/cs.wisc.edu/u/v/a/vaishnavi_b/Desktop/Circle-Detection-ML-Challenge-/src/utils.py:77\u001b[0m, in \u001b[0;36mgenerate_examples\u001b[0;34m(noise_level, img_size, min_radius, max_radius, dataset_path)\u001b[0m\n\u001b[1;32m     75\u001b[0m \u001b[39mprint\u001b[39m(\u001b[39mf\u001b[39m\u001b[39m\"\u001b[39m\u001b[39mUsing parameters: \u001b[39m\u001b[39m{\u001b[39;00mparams\u001b[39m}\u001b[39;00m\u001b[39m\"\u001b[39m)\n\u001b[1;32m     76\u001b[0m \u001b[39mwhile\u001b[39;00m \u001b[39mTrue\u001b[39;00m:\n\u001b[0;32m---> 77\u001b[0m     img, params \u001b[39m=\u001b[39m noisy_circle(\n\u001b[1;32m     78\u001b[0m         img_size\u001b[39m=\u001b[39;49mimg_size, min_radius\u001b[39m=\u001b[39;49mmin_radius, max_radius\u001b[39m=\u001b[39;49mmax_radius, noise_level\u001b[39m=\u001b[39;49mnoise_level\n\u001b[1;32m     79\u001b[0m     )\n\u001b[1;32m     80\u001b[0m     \u001b[39myield\u001b[39;00m img, params\n",
      "File \u001b[0;32m/afs/cs.wisc.edu/u/v/a/vaishnavi_b/Desktop/Circle-Detection-ML-Challenge-/src/utils.py:44\u001b[0m, in \u001b[0;36mnoisy_circle\u001b[0;34m(img_size, min_radius, max_radius, noise_level)\u001b[0m\n\u001b[1;32m     41\u001b[0m row, col \u001b[39m=\u001b[39m np\u001b[39m.\u001b[39mrandom\u001b[39m.\u001b[39mrandint(img_size, size\u001b[39m=\u001b[39m\u001b[39m2\u001b[39m)\n\u001b[1;32m     43\u001b[0m \u001b[39m# Draw the circle inplace\u001b[39;00m\n\u001b[0;32m---> 44\u001b[0m draw_circle(img, row, col, radius)\n\u001b[1;32m     46\u001b[0m added_noise \u001b[39m=\u001b[39m np\u001b[39m.\u001b[39mrandom\u001b[39m.\u001b[39mnormal(\u001b[39m0.5\u001b[39m, noise_level, img\u001b[39m.\u001b[39mshape)\n\u001b[1;32m     47\u001b[0m img \u001b[39m+\u001b[39m\u001b[39m=\u001b[39m added_noise\n",
      "File \u001b[0;32m/afs/cs.wisc.edu/u/v/a/vaishnavi_b/Desktop/Circle-Detection-ML-Challenge-/src/utils.py:22\u001b[0m, in \u001b[0;36mdraw_circle\u001b[0;34m(img, row, col, radius)\u001b[0m\n\u001b[1;32m     14\u001b[0m \u001b[39mdef\u001b[39;00m \u001b[39mdraw_circle\u001b[39m(img: np\u001b[39m.\u001b[39mndarray, row: \u001b[39mint\u001b[39m, col: \u001b[39mint\u001b[39m, radius: \u001b[39mint\u001b[39m) \u001b[39m-\u001b[39m\u001b[39m>\u001b[39m np\u001b[39m.\u001b[39mndarray:\n\u001b[1;32m     15\u001b[0m     \u001b[39m\"\"\"\u001b[39;00m\n\u001b[1;32m     16\u001b[0m \u001b[39m    Draw a circle in a numpy array, inplace.\u001b[39;00m\n\u001b[1;32m     17\u001b[0m \u001b[39m    The center of the circle is at (row, col) and the radius is given by radius.\u001b[39;00m\n\u001b[0;32m   (...)\u001b[0m\n\u001b[1;32m     20\u001b[0m \u001b[39m    Circle is white (1) on black (0) background, and is anti-aliased.\u001b[39;00m\n\u001b[1;32m     21\u001b[0m \u001b[39m    \"\"\"\u001b[39;00m\n\u001b[0;32m---> 22\u001b[0m     rr, cc, val \u001b[39m=\u001b[39m circle_perimeter_aa(row, col, radius)\n\u001b[1;32m     23\u001b[0m     valid \u001b[39m=\u001b[39m (rr \u001b[39m>\u001b[39m\u001b[39m=\u001b[39m \u001b[39m0\u001b[39m) \u001b[39m&\u001b[39m (rr \u001b[39m<\u001b[39m img\u001b[39m.\u001b[39mshape[\u001b[39m0\u001b[39m]) \u001b[39m&\u001b[39m (cc \u001b[39m>\u001b[39m\u001b[39m=\u001b[39m \u001b[39m0\u001b[39m) \u001b[39m&\u001b[39m (cc \u001b[39m<\u001b[39m img\u001b[39m.\u001b[39mshape[\u001b[39m1\u001b[39m])\n\u001b[1;32m     24\u001b[0m     img[rr[valid], cc[valid]] \u001b[39m=\u001b[39m val[valid]\n",
      "\u001b[0;31mNameError\u001b[0m: name 'circle_perimeter_aa' is not defined"
     ]
    }
   ],
   "source": [
    "from prepare_data import get_data\n",
    "\n",
    "\n",
    "data = get_data()"
   ]
  },
  {
   "cell_type": "code",
   "execution_count": null,
   "metadata": {},
   "outputs": [],
   "source": []
  },
  {
   "cell_type": "code",
   "execution_count": null,
   "metadata": {},
   "outputs": [],
   "source": []
  }
 ],
 "metadata": {
  "kernelspec": {
   "display_name": "Python 3",
   "language": "python",
   "name": "python3"
  },
  "language_info": {
   "codemirror_mode": {
    "name": "ipython",
    "version": 3
   },
   "file_extension": ".py",
   "mimetype": "text/x-python",
   "name": "python",
   "nbconvert_exporter": "python",
   "pygments_lexer": "ipython3",
   "version": "3.10.12"
  }
 },
 "nbformat": 4,
 "nbformat_minor": 2
}
